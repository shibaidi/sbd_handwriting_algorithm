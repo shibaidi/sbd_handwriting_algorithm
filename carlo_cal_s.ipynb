{
 "cells": [
  {
   "cell_type": "code",
   "execution_count": 1,
   "metadata": {},
   "outputs": [],
   "source": [
    "import numpy as np\n",
    "import math\n",
    "def f(x):\n",
    "    \n",
    "    return x**3\n",
    "#times为采样次数\n",
    "#bound为上下边界矩阵\n",
    "def calro(times,a,b):\n",
    "    #此为最简形式，基于正态分布于区间[a,b]内随机采数\n",
    "    #后续添加基于样本，推测函数分布密度，决定该次采样是否接受，马尔卡尔蒙特卡洛方法\n",
    "    x = []\n",
    "    y = []\n",
    "    for i in range(times):\n",
    "        tp = np.random.rand()*(b-a)\n",
    "        x.append(tp)\n",
    "    x = np.sort(x)\n",
    "    y = f(x)\n",
    "    return np.array(x),np.array(y)\n"
   ]
  },
  {
   "cell_type": "code",
   "execution_count": 2,
   "metadata": {},
   "outputs": [],
   "source": [
    "import matplotlib.pyplot as plt\n",
    "SMALL_SIZE = 11\n",
    "MEDIUM_SIZE = 13\n",
    "BIGGER_SIZE = 13\n",
    "plt.rc('font', size=SMALL_SIZE)          # controls default text sizes\n",
    "plt.rc('axes', titlesize=SMALL_SIZE)     # fontsize of the axes title\n",
    "plt.rc('axes', labelsize=MEDIUM_SIZE)    # fontsize of the x and y labels\n",
    "plt.rc('xtick', labelsize=SMALL_SIZE)    # fontsize of the tick labels\n",
    "plt.rc('ytick', labelsize=SMALL_SIZE)    # fontsize of the tick labels\n",
    "plt.rc('legend', fontsize=SMALL_SIZE)    # legend fontsize\n",
    "plt.rc('figure', titlesize=BIGGER_SIZE)  # fontsize of the figure title\n",
    "plt.rcParams['font.sans-serif']=['SimHei']\n",
    "plt.rcParams['axes.unicode_minus']=False"
   ]
  },
  {
   "cell_type": "code",
   "execution_count": 3,
   "metadata": {},
   "outputs": [],
   "source": [
    "times = 1000000\n",
    "x_cal,y_cal = calro(times,0,1)\n",
    "def plot_compare(times,x_cal,y_cal):\n",
    "    #采样点是否合理直接决定估值精度\n",
    "    x_real = np.linspace(0,1,times)\n",
    "    y_real = f(x_real)\n",
    "    plt.figure()\n",
    "    gca = 'get_current_axis'\n",
    "    ax = plt.gca()\n",
    "    ax.spines['right'].set_color('none')\n",
    "    ax.spines['top'].set_color('none')\n",
    "    ax.xaxis.set_ticks_position('bottom')\n",
    "    ax.yaxis.set_ticks_position('left')\n",
    "    plt.plot(x_real,y_real,color='yellow',linestyle='-')\n",
    "    #print(x_cal)\n",
    "    plt.plot(x_cal,y_cal,color='blue',marker='o')\n",
    "    plt.legend(['sin(x)','采样值'])\n",
    "    plt.show()"
   ]
  },
  {
   "cell_type": "code",
   "execution_count": 4,
   "metadata": {},
   "outputs": [
    {
     "name": "stderr",
     "output_type": "stream",
     "text": [
      "C:\\Users\\MSI-PC\\Anaconda3\\lib\\site-packages\\IPython\\core\\pylabtools.py:128: UserWarning: Creating legend with loc=\"best\" can be slow with large amounts of data.\n",
      "  fig.canvas.print_figure(bytes_io, **kw)\n"
     ]
    },
    {
     "data": {
      "image/png": "[encoded data removed]",
      "text/plain": [
       "<Figure size 432x288 with 1 Axes>"
      ]
     },
     "metadata": {
      "needs_background": "light"
     },
     "output_type": "display_data"
    }
   ],
   "source": [
    "plot_compare(times,x_cal,y_cal)"
   ]
  },
  {
   "cell_type": "code",
   "execution_count": 5,
   "metadata": {},
   "outputs": [
    {
     "name": "stdout",
     "output_type": "stream",
     "text": [
      "当采样次数为: 1000000,x.^3在[0,1]估计面积值为:  0.2503139468139019\n"
     ]
    }
   ],
   "source": [
    "def cal_s(y_cal,times):\n",
    "    return sum(y_cal)/times\n",
    "print('当采样次数为: '+str(times)+',x.^3在[0,1]估计面积值为: ',cal_s(y_cal,times))"
   ]
  },
  {
   "cell_type": "code",
   "execution_count": null,
   "metadata": {},
   "outputs": [],
   "source": []
  }
 ],
 "metadata": {
  "kernelspec": {
   "display_name": "Python 3",
   "language": "python",
   "name": "python3"
  },
  "language_info": {
   "codemirror_mode": {
    "name": "ipython",
    "version": 3
   },
   "file_extension": ".py",
   "mimetype": "text/x-python",
   "name": "python",
   "nbconvert_exporter": "python",
   "pygments_lexer": "ipython3",
   "version": "3.7.4"
  }
 },
 "nbformat": 4,
 "nbformat_minor": 2
}
